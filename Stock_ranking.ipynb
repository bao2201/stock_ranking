{
 "cells": [
  {
   "cell_type": "code",
   "execution_count": 1,
   "metadata": {},
   "outputs": [],
   "source": [
    "import pandas as pd\n",
    "import numpy as np\n",
    "from datetime import datetime\n",
    "import os"
   ]
  },
  {
   "cell_type": "code",
   "execution_count": 2,
   "metadata": {},
   "outputs": [],
   "source": [
    "columns=['Ticker','Date','Close','Volume','EPS','B/S','B/P','E/P','S/P','Shares Float','Share Out','Dividend/Share','Shareholder yield','Cashflow','EBITDA/Share','Market,''Market Cap','Momentum 5 days','Momentum 20 days','Momentum 60 days','Momentum 120 days','RSI 14 days','Industry_1','Industry_2','Industry_3']"
   ]
  },
  {
   "cell_type": "code",
   "execution_count": 3,
   "metadata": {},
   "outputs": [],
   "source": [
    "path=os.path.abspath(\"/Desktop/rank_stock.csv\")"
   ]
  },
  {
   "cell_type": "code",
   "execution_count": 4,
   "metadata": {},
   "outputs": [
    {
     "name": "stderr",
     "output_type": "stream",
     "text": [
      "C:\\Users\\ASUS\\AppData\\Local\\Temp\\ipykernel_6088\\554264271.py:1: DtypeWarning: Columns (13,24) have mixed types. Specify dtype option on import or set low_memory=False.\n",
      "  df=pd.read_csv(r\"C:\\Users\\ASUS\\OneDrive\\Máy tính\\Stock_ranking\\rank_stock.csv\",on_bad_lines = 'warn',parse_dates=True)\n"
     ]
    }
   ],
   "source": [
    "df=pd.read_csv(r\"C:\\Users\\ASUS\\OneDrive\\Máy tính\\Stock_ranking\\rank_stock.csv\",on_bad_lines = 'warn',parse_dates=True)\n",
    "df.reset_index(inplace=True)\n",
    "df=df[df['Industry_1'].notnull()]\n",
    "df.drop(index=df.index[0], axis=0, inplace=True)\n",
    "df=df.fillna(value=0)"
   ]
  },
  {
   "cell_type": "code",
   "execution_count": 5,
   "metadata": {},
   "outputs": [],
   "source": [
    "df.set_index(\"index\",inplace=True)"
   ]
  },
  {
   "cell_type": "code",
   "execution_count": 6,
   "metadata": {},
   "outputs": [],
   "source": [
    "df['Cash flow']=pd.to_numeric(df['Cash flow'])"
   ]
  },
  {
   "cell_type": "code",
   "execution_count": 7,
   "metadata": {},
   "outputs": [
    {
     "data": {
      "text/plain": [
       "Index(['Ticker', 'Date/Time', 'Close', 'Volume', 'EPS', 'B/S', 'B/P', 'E/P',\n",
       "       'S/P', 'Shares Float', 'Shares Out', 'Dividend Per Share',\n",
       "       'Shareholder Yield', 'Cash flow', 'EBITDA/Share', 'Market',\n",
       "       'Market Cap', 'Momentum 5 days', 'Momentum 20 days', 'Momentum 60 days',\n",
       "       'Momentum 120 days', 'RSI 14 days', 'Industry_1', 'Industry_2',\n",
       "       'Industry_3'],\n",
       "      dtype='object')"
      ]
     },
     "execution_count": 7,
     "metadata": {},
     "output_type": "execute_result"
    }
   ],
   "source": [
    "df.columns"
   ]
  },
  {
   "cell_type": "code",
   "execution_count": 8,
   "metadata": {},
   "outputs": [],
   "source": [
    "df['CF/P']=df['Close']/df['Cash flow']\n",
    "df['EBITDA/EV']=df['EBITDA/Share']/df['Market Cap']"
   ]
  },
  {
   "cell_type": "code",
   "execution_count": 9,
   "metadata": {},
   "outputs": [],
   "source": [
    "df['Trading Volume']= df['Close']*df['Volume']\n",
    "df['Av_trading_60']=df['Trading Volume'].rolling(window=60,min_periods=20).mean()\n",
    "df['Av_trading_20']=df['Trading Volume'].rolling(window=20,min_periods=20).mean()"
   ]
  },
  {
   "cell_type": "code",
   "execution_count": 10,
   "metadata": {},
   "outputs": [],
   "source": [
    "cols_rank=['EPS','B/S','B/P','E/P','S/P','Shareholder Yield','Market Cap','Momentum 5 days','Momentum 20 days','Momentum 60 days','Momentum 120 days','CF/P','EBITDA/EV']"
   ]
  },
  {
   "cell_type": "code",
   "execution_count": 11,
   "metadata": {},
   "outputs": [],
   "source": [
    "df['Market_cap']=(df['Shares Float']+df['Shares Out'])*df['Close']\n",
    "df['Av_marketcap_60']=df['Market Cap'].rolling(window=60,min_periods=20).mean()\n",
    "df['Av_marketcap_20']=df['Market Cap'].rolling(window=20,min_periods=20).mean()"
   ]
  },
  {
   "cell_type": "code",
   "execution_count": 12,
   "metadata": {},
   "outputs": [],
   "source": [
    "df_rank=df.groupby(by=['Date/Time'])[cols_rank].rank()"
   ]
  },
  {
   "cell_type": "code",
   "execution_count": 13,
   "metadata": {},
   "outputs": [],
   "source": [
    "df['valuation_score']=df_rank['B/P']+df_rank['S/P']+df['E/P']+df_rank['Shareholder Yield']+df_rank['CF/P']+df_rank['EBITDA/EV']"
   ]
  },
  {
   "cell_type": "code",
   "execution_count": 14,
   "metadata": {},
   "outputs": [
    {
     "data": {
      "text/html": [
       "<div>\n",
       "<style scoped>\n",
       "    .dataframe tbody tr th:only-of-type {\n",
       "        vertical-align: middle;\n",
       "    }\n",
       "\n",
       "    .dataframe tbody tr th {\n",
       "        vertical-align: top;\n",
       "    }\n",
       "\n",
       "    .dataframe thead th {\n",
       "        text-align: right;\n",
       "    }\n",
       "</style>\n",
       "<table border=\"1\" class=\"dataframe\">\n",
       "  <thead>\n",
       "    <tr style=\"text-align: right;\">\n",
       "      <th></th>\n",
       "      <th>Date/Time</th>\n",
       "      <th>Industry_1</th>\n",
       "      <th>Momentum 60 days</th>\n",
       "    </tr>\n",
       "    <tr>\n",
       "      <th>index</th>\n",
       "      <th></th>\n",
       "      <th></th>\n",
       "      <th></th>\n",
       "    </tr>\n",
       "  </thead>\n",
       "  <tbody>\n",
       "    <tr>\n",
       "      <th>251</th>\n",
       "      <td>9/6/2022 0:00</td>\n",
       "      <td>Hoa chat co ban - San pham nhua</td>\n",
       "      <td>0.00</td>\n",
       "    </tr>\n",
       "    <tr>\n",
       "      <th>252</th>\n",
       "      <td>9/7/2022 0:00</td>\n",
       "      <td>Hoa chat co ban - San pham nhua</td>\n",
       "      <td>0.00</td>\n",
       "    </tr>\n",
       "    <tr>\n",
       "      <th>253</th>\n",
       "      <td>9/8/2022 0:00</td>\n",
       "      <td>Hoa chat co ban - San pham nhua</td>\n",
       "      <td>0.00</td>\n",
       "    </tr>\n",
       "    <tr>\n",
       "      <th>254</th>\n",
       "      <td>9/9/2022 0:00</td>\n",
       "      <td>Hoa chat co ban - San pham nhua</td>\n",
       "      <td>0.00</td>\n",
       "    </tr>\n",
       "    <tr>\n",
       "      <th>255</th>\n",
       "      <td>9/12/2022 0:00</td>\n",
       "      <td>Hoa chat co ban - San pham nhua</td>\n",
       "      <td>0.00</td>\n",
       "    </tr>\n",
       "    <tr>\n",
       "      <th>...</th>\n",
       "      <td>...</td>\n",
       "      <td>...</td>\n",
       "      <td>...</td>\n",
       "    </tr>\n",
       "    <tr>\n",
       "      <th>1048570</th>\n",
       "      <td>8/29/2023 0:00</td>\n",
       "      <td>Hoa chat co ban - San pham nhua</td>\n",
       "      <td>-15.63</td>\n",
       "    </tr>\n",
       "    <tr>\n",
       "      <th>1048571</th>\n",
       "      <td>8/30/2023 0:00</td>\n",
       "      <td>Hoa chat co ban - San pham nhua</td>\n",
       "      <td>-18.78</td>\n",
       "    </tr>\n",
       "    <tr>\n",
       "      <th>1048572</th>\n",
       "      <td>8/31/2023 0:00</td>\n",
       "      <td>Hoa chat co ban - San pham nhua</td>\n",
       "      <td>-15.15</td>\n",
       "    </tr>\n",
       "    <tr>\n",
       "      <th>1048573</th>\n",
       "      <td>9/5/2022 0:00</td>\n",
       "      <td>Xuat ban</td>\n",
       "      <td>0.00</td>\n",
       "    </tr>\n",
       "    <tr>\n",
       "      <th>1048574</th>\n",
       "      <td>9/6/2022 0:00</td>\n",
       "      <td>Xuat ban</td>\n",
       "      <td>0.00</td>\n",
       "    </tr>\n",
       "  </tbody>\n",
       "</table>\n",
       "<p>331101 rows × 3 columns</p>\n",
       "</div>"
      ],
      "text/plain": [
       "              Date/Time                       Industry_1  Momentum 60 days\n",
       "index                                                                     \n",
       "251       9/6/2022 0:00  Hoa chat co ban - San pham nhua              0.00\n",
       "252       9/7/2022 0:00  Hoa chat co ban - San pham nhua              0.00\n",
       "253       9/8/2022 0:00  Hoa chat co ban - San pham nhua              0.00\n",
       "254       9/9/2022 0:00  Hoa chat co ban - San pham nhua              0.00\n",
       "255      9/12/2022 0:00  Hoa chat co ban - San pham nhua              0.00\n",
       "...                 ...                              ...               ...\n",
       "1048570  8/29/2023 0:00  Hoa chat co ban - San pham nhua            -15.63\n",
       "1048571  8/30/2023 0:00  Hoa chat co ban - San pham nhua            -18.78\n",
       "1048572  8/31/2023 0:00  Hoa chat co ban - San pham nhua            -15.15\n",
       "1048573   9/5/2022 0:00                         Xuat ban              0.00\n",
       "1048574   9/6/2022 0:00                         Xuat ban              0.00\n",
       "\n",
       "[331101 rows x 3 columns]"
      ]
     },
     "execution_count": 14,
     "metadata": {},
     "output_type": "execute_result"
    }
   ],
   "source": [
    "df_1=df[['Date/Time','Industry_1','Momentum 60 days']]\n",
    "df_1"
   ]
  },
  {
   "cell_type": "code",
   "execution_count": 15,
   "metadata": {},
   "outputs": [],
   "source": [
    "sector_perf=pd.DataFrame(df_1.groupby(by=['Industry_1','Date/Time']).mean()).reset_index().rename(columns={'Momentume_60':'Sector_lv2_perf_60'})"
   ]
  },
  {
   "cell_type": "code",
   "execution_count": 16,
   "metadata": {},
   "outputs": [],
   "source": [
    "sector_perf=sector_perf.set_index(['Industry_1','Date/Time'])"
   ]
  },
  {
   "cell_type": "code",
   "execution_count": 17,
   "metadata": {},
   "outputs": [],
   "source": [
    "sector_perf=sector_perf.rank()"
   ]
  },
  {
   "cell_type": "code",
   "execution_count": 18,
   "metadata": {},
   "outputs": [],
   "source": [
    "sector_perf.reset_index(inplace=True)"
   ]
  },
  {
   "cell_type": "code",
   "execution_count": 19,
   "metadata": {},
   "outputs": [],
   "source": [
    "df['ta_rating']=(df_rank['Momentum 20 days']+df_rank['Momentum 120 days'])/2"
   ]
  },
  {
   "cell_type": "code",
   "execution_count": 20,
   "metadata": {},
   "outputs": [],
   "source": [
    "df['Rating']=2/3*(0.7*df['valuation_score']+0.3*df['ta_rating'])+1/3*sector_perf['Momentum 60 days']"
   ]
  },
  {
   "cell_type": "code",
   "execution_count": 24,
   "metadata": {},
   "outputs": [],
   "source": [
    "from score_stock import penalty_funct"
   ]
  },
  {
   "cell_type": "code",
   "execution_count": 25,
   "metadata": {},
   "outputs": [
    {
     "ename": "AttributeError",
     "evalue": "'float' object has no attribute 'any'",
     "output_type": "error",
     "traceback": [
      "\u001b[1;31m---------------------------------------------------------------------------\u001b[0m",
      "\u001b[1;31mAttributeError\u001b[0m                            Traceback (most recent call last)",
      "Cell \u001b[1;32mIn[25], line 1\u001b[0m\n\u001b[1;32m----> 1\u001b[0m df[\u001b[39m'\u001b[39m\u001b[39mModified_Rating\u001b[39m\u001b[39m'\u001b[39m] \u001b[39m=\u001b[39m df\u001b[39m.\u001b[39;49mapply(\u001b[39mlambda\u001b[39;49;00m row: penalty_funct(row, \u001b[39m'\u001b[39;49m\u001b[39mRating\u001b[39;49m\u001b[39m'\u001b[39;49m), axis\u001b[39m=\u001b[39;49m\u001b[39m1\u001b[39;49m)\n",
      "File \u001b[1;32mc:\\Users\\ASUS\\AppData\\Local\\Programs\\Python\\Python311\\Lib\\site-packages\\pandas\\core\\frame.py:9428\u001b[0m, in \u001b[0;36mDataFrame.apply\u001b[1;34m(self, func, axis, raw, result_type, args, **kwargs)\u001b[0m\n\u001b[0;32m   9417\u001b[0m \u001b[39mfrom\u001b[39;00m \u001b[39mpandas\u001b[39;00m\u001b[39m.\u001b[39;00m\u001b[39mcore\u001b[39;00m\u001b[39m.\u001b[39;00m\u001b[39mapply\u001b[39;00m \u001b[39mimport\u001b[39;00m frame_apply\n\u001b[0;32m   9419\u001b[0m op \u001b[39m=\u001b[39m frame_apply(\n\u001b[0;32m   9420\u001b[0m     \u001b[39mself\u001b[39m,\n\u001b[0;32m   9421\u001b[0m     func\u001b[39m=\u001b[39mfunc,\n\u001b[1;32m   (...)\u001b[0m\n\u001b[0;32m   9426\u001b[0m     kwargs\u001b[39m=\u001b[39mkwargs,\n\u001b[0;32m   9427\u001b[0m )\n\u001b[1;32m-> 9428\u001b[0m \u001b[39mreturn\u001b[39;00m op\u001b[39m.\u001b[39;49mapply()\u001b[39m.\u001b[39m__finalize__(\u001b[39mself\u001b[39m, method\u001b[39m=\u001b[39m\u001b[39m\"\u001b[39m\u001b[39mapply\u001b[39m\u001b[39m\"\u001b[39m)\n",
      "File \u001b[1;32mc:\\Users\\ASUS\\AppData\\Local\\Programs\\Python\\Python311\\Lib\\site-packages\\pandas\\core\\apply.py:678\u001b[0m, in \u001b[0;36mFrameApply.apply\u001b[1;34m(self)\u001b[0m\n\u001b[0;32m    675\u001b[0m \u001b[39melif\u001b[39;00m \u001b[39mself\u001b[39m\u001b[39m.\u001b[39mraw:\n\u001b[0;32m    676\u001b[0m     \u001b[39mreturn\u001b[39;00m \u001b[39mself\u001b[39m\u001b[39m.\u001b[39mapply_raw()\n\u001b[1;32m--> 678\u001b[0m \u001b[39mreturn\u001b[39;00m \u001b[39mself\u001b[39;49m\u001b[39m.\u001b[39;49mapply_standard()\n",
      "File \u001b[1;32mc:\\Users\\ASUS\\AppData\\Local\\Programs\\Python\\Python311\\Lib\\site-packages\\pandas\\core\\apply.py:798\u001b[0m, in \u001b[0;36mFrameApply.apply_standard\u001b[1;34m(self)\u001b[0m\n\u001b[0;32m    797\u001b[0m \u001b[39mdef\u001b[39;00m \u001b[39mapply_standard\u001b[39m(\u001b[39mself\u001b[39m):\n\u001b[1;32m--> 798\u001b[0m     results, res_index \u001b[39m=\u001b[39m \u001b[39mself\u001b[39;49m\u001b[39m.\u001b[39;49mapply_series_generator()\n\u001b[0;32m    800\u001b[0m     \u001b[39m# wrap results\u001b[39;00m\n\u001b[0;32m    801\u001b[0m     \u001b[39mreturn\u001b[39;00m \u001b[39mself\u001b[39m\u001b[39m.\u001b[39mwrap_results(results, res_index)\n",
      "File \u001b[1;32mc:\\Users\\ASUS\\AppData\\Local\\Programs\\Python\\Python311\\Lib\\site-packages\\pandas\\core\\apply.py:814\u001b[0m, in \u001b[0;36mFrameApply.apply_series_generator\u001b[1;34m(self)\u001b[0m\n\u001b[0;32m    811\u001b[0m \u001b[39mwith\u001b[39;00m option_context(\u001b[39m\"\u001b[39m\u001b[39mmode.chained_assignment\u001b[39m\u001b[39m\"\u001b[39m, \u001b[39mNone\u001b[39;00m):\n\u001b[0;32m    812\u001b[0m     \u001b[39mfor\u001b[39;00m i, v \u001b[39min\u001b[39;00m \u001b[39menumerate\u001b[39m(series_gen):\n\u001b[0;32m    813\u001b[0m         \u001b[39m# ignore SettingWithCopy here in case the user mutates\u001b[39;00m\n\u001b[1;32m--> 814\u001b[0m         results[i] \u001b[39m=\u001b[39m \u001b[39mself\u001b[39;49m\u001b[39m.\u001b[39;49mf(v)\n\u001b[0;32m    815\u001b[0m         \u001b[39mif\u001b[39;00m \u001b[39misinstance\u001b[39m(results[i], ABCSeries):\n\u001b[0;32m    816\u001b[0m             \u001b[39m# If we have a view on v, we need to make a copy because\u001b[39;00m\n\u001b[0;32m    817\u001b[0m             \u001b[39m#  series_generator will swap out the underlying data\u001b[39;00m\n\u001b[0;32m    818\u001b[0m             results[i] \u001b[39m=\u001b[39m results[i]\u001b[39m.\u001b[39mcopy(deep\u001b[39m=\u001b[39m\u001b[39mFalse\u001b[39;00m)\n",
      "Cell \u001b[1;32mIn[25], line 1\u001b[0m, in \u001b[0;36m<lambda>\u001b[1;34m(row)\u001b[0m\n\u001b[1;32m----> 1\u001b[0m df[\u001b[39m'\u001b[39m\u001b[39mModified_Rating\u001b[39m\u001b[39m'\u001b[39m] \u001b[39m=\u001b[39m df\u001b[39m.\u001b[39mapply(\u001b[39mlambda\u001b[39;00m row: penalty_funct(row, \u001b[39m'\u001b[39;49m\u001b[39mRating\u001b[39;49m\u001b[39m'\u001b[39;49m), axis\u001b[39m=\u001b[39m\u001b[39m1\u001b[39m)\n",
      "File \u001b[1;32mc:\\Users\\ASUS\\OneDrive\\Máy tính\\Stock_ranking\\score_stock.py:3\u001b[0m, in \u001b[0;36mpenalty_funct\u001b[1;34m(row, ratings_name)\u001b[0m\n\u001b[0;32m      1\u001b[0m \u001b[39mdef\u001b[39;00m \u001b[39mpenalty_funct\u001b[39m(row,ratings_name):\n\u001b[0;32m      2\u001b[0m     score\u001b[39m=\u001b[39mrow[ratings_name]\n\u001b[1;32m----> 3\u001b[0m     \u001b[39mif\u001b[39;00m row[\u001b[39m'\u001b[39;49m\u001b[39mClose\u001b[39;49m\u001b[39m'\u001b[39;49m]\u001b[39m.\u001b[39;49many()\u001b[39m<\u001b[39m\u001b[39m=\u001b[39m\u001b[39m5000\u001b[39m:\n\u001b[0;32m      4\u001b[0m         score\u001b[39m=\u001b[39m\u001b[39mmin\u001b[39m(score,\u001b[39m0.8\u001b[39m)\n\u001b[0;32m      5\u001b[0m     \u001b[39melif\u001b[39;00m row[\u001b[39m'\u001b[39m\u001b[39mClose\u001b[39m\u001b[39m'\u001b[39m]\u001b[39m.\u001b[39many()\u001b[39m<\u001b[39m\u001b[39m=\u001b[39m\u001b[39m10000\u001b[39m:\n",
      "\u001b[1;31mAttributeError\u001b[0m: 'float' object has no attribute 'any'"
     ]
    }
   ],
   "source": [
    "df['Modified_Rating'] = df.apply(lambda row: penalty_funct(row, 'Rating'), axis=1)"
   ]
  },
  {
   "cell_type": "code",
   "execution_count": null,
   "metadata": {},
   "outputs": [],
   "source": []
  }
 ],
 "metadata": {
  "kernelspec": {
   "display_name": "Python 3",
   "language": "python",
   "name": "python3"
  },
  "language_info": {
   "codemirror_mode": {
    "name": "ipython",
    "version": 3
   },
   "file_extension": ".py",
   "mimetype": "text/x-python",
   "name": "python",
   "nbconvert_exporter": "python",
   "pygments_lexer": "ipython3",
   "version": "3.11.3"
  },
  "orig_nbformat": 4,
  "vscode": {
   "interpreter": {
    "hash": "318f2c383d48220c821fefd227250c35bb828f95042f5889a5ad1704b1baf79c"
   }
  }
 },
 "nbformat": 4,
 "nbformat_minor": 2
}
